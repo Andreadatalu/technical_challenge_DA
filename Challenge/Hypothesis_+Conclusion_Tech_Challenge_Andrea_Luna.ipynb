{
 "cells": [
  {
   "cell_type": "code",
   "execution_count": 1,
   "id": "09952c22",
   "metadata": {},
   "outputs": [],
   "source": [
    "import pandas as pd\n",
    "import numpy as np\n",
    "import scipy.stats as stats\n",
    "import statsmodels.api as sm\n",
    "from statsmodels.formula.api import ols"
   ]
  },
  {
   "cell_type": "code",
   "execution_count": 2,
   "id": "c34f54ad",
   "metadata": {},
   "outputs": [
    {
     "data": {
      "text/plain": [
       "(388, 16)"
      ]
     },
     "metadata": {},
     "output_type": "display_data"
    },
    {
     "data": {
      "text/html": [
       "<div>\n",
       "<style scoped>\n",
       "    .dataframe tbody tr th:only-of-type {\n",
       "        vertical-align: middle;\n",
       "    }\n",
       "\n",
       "    .dataframe tbody tr th {\n",
       "        vertical-align: top;\n",
       "    }\n",
       "\n",
       "    .dataframe thead th {\n",
       "        text-align: right;\n",
       "    }\n",
       "</style>\n",
       "<table border=\"1\" class=\"dataframe\">\n",
       "  <thead>\n",
       "    <tr style=\"text-align: right;\">\n",
       "      <th></th>\n",
       "      <th>distance</th>\n",
       "      <th>consume</th>\n",
       "      <th>speed</th>\n",
       "      <th>temp_inside</th>\n",
       "      <th>temp_outside</th>\n",
       "      <th>specials</th>\n",
       "      <th>gas_type</th>\n",
       "      <th>ac</th>\n",
       "      <th>rain</th>\n",
       "      <th>sun</th>\n",
       "      <th>refill_liters</th>\n",
       "      <th>refill_gas</th>\n",
       "      <th>fuel_price_liter</th>\n",
       "      <th>fuel_consume_km</th>\n",
       "      <th>trip_cost</th>\n",
       "      <th>cost_km</th>\n",
       "    </tr>\n",
       "  </thead>\n",
       "  <tbody>\n",
       "    <tr>\n",
       "      <th>0</th>\n",
       "      <td>28.0</td>\n",
       "      <td>5.0</td>\n",
       "      <td>26</td>\n",
       "      <td>21.5</td>\n",
       "      <td>12</td>\n",
       "      <td>other</td>\n",
       "      <td>E10</td>\n",
       "      <td>0</td>\n",
       "      <td>0</td>\n",
       "      <td>0</td>\n",
       "      <td>45.000000</td>\n",
       "      <td>E10</td>\n",
       "      <td>1.38</td>\n",
       "      <td>1.4000</td>\n",
       "      <td>1.932000</td>\n",
       "      <td>0.06900</td>\n",
       "    </tr>\n",
       "    <tr>\n",
       "      <th>1</th>\n",
       "      <td>12.0</td>\n",
       "      <td>4.2</td>\n",
       "      <td>30</td>\n",
       "      <td>21.5</td>\n",
       "      <td>13</td>\n",
       "      <td>other</td>\n",
       "      <td>E10</td>\n",
       "      <td>0</td>\n",
       "      <td>0</td>\n",
       "      <td>0</td>\n",
       "      <td>37.115385</td>\n",
       "      <td>E10</td>\n",
       "      <td>1.38</td>\n",
       "      <td>0.5040</td>\n",
       "      <td>0.695520</td>\n",
       "      <td>0.05796</td>\n",
       "    </tr>\n",
       "    <tr>\n",
       "      <th>2</th>\n",
       "      <td>11.2</td>\n",
       "      <td>5.5</td>\n",
       "      <td>38</td>\n",
       "      <td>21.5</td>\n",
       "      <td>15</td>\n",
       "      <td>other</td>\n",
       "      <td>E10</td>\n",
       "      <td>0</td>\n",
       "      <td>0</td>\n",
       "      <td>0</td>\n",
       "      <td>37.115385</td>\n",
       "      <td>E10</td>\n",
       "      <td>1.38</td>\n",
       "      <td>0.6160</td>\n",
       "      <td>0.850080</td>\n",
       "      <td>0.07590</td>\n",
       "    </tr>\n",
       "    <tr>\n",
       "      <th>3</th>\n",
       "      <td>12.9</td>\n",
       "      <td>3.9</td>\n",
       "      <td>36</td>\n",
       "      <td>21.5</td>\n",
       "      <td>14</td>\n",
       "      <td>other</td>\n",
       "      <td>E10</td>\n",
       "      <td>0</td>\n",
       "      <td>0</td>\n",
       "      <td>0</td>\n",
       "      <td>37.115385</td>\n",
       "      <td>E10</td>\n",
       "      <td>1.38</td>\n",
       "      <td>0.5031</td>\n",
       "      <td>0.694278</td>\n",
       "      <td>0.05382</td>\n",
       "    </tr>\n",
       "    <tr>\n",
       "      <th>4</th>\n",
       "      <td>18.5</td>\n",
       "      <td>4.5</td>\n",
       "      <td>46</td>\n",
       "      <td>21.5</td>\n",
       "      <td>15</td>\n",
       "      <td>other</td>\n",
       "      <td>E10</td>\n",
       "      <td>0</td>\n",
       "      <td>0</td>\n",
       "      <td>0</td>\n",
       "      <td>37.115385</td>\n",
       "      <td>E10</td>\n",
       "      <td>1.38</td>\n",
       "      <td>0.8325</td>\n",
       "      <td>1.148850</td>\n",
       "      <td>0.06210</td>\n",
       "    </tr>\n",
       "  </tbody>\n",
       "</table>\n",
       "</div>"
      ],
      "text/plain": [
       "   distance  consume  speed  temp_inside  temp_outside specials gas_type  ac  \\\n",
       "0      28.0      5.0     26         21.5            12    other      E10   0   \n",
       "1      12.0      4.2     30         21.5            13    other      E10   0   \n",
       "2      11.2      5.5     38         21.5            15    other      E10   0   \n",
       "3      12.9      3.9     36         21.5            14    other      E10   0   \n",
       "4      18.5      4.5     46         21.5            15    other      E10   0   \n",
       "\n",
       "   rain  sun  refill_liters refill_gas  fuel_price_liter  fuel_consume_km  \\\n",
       "0     0    0      45.000000        E10              1.38           1.4000   \n",
       "1     0    0      37.115385        E10              1.38           0.5040   \n",
       "2     0    0      37.115385        E10              1.38           0.6160   \n",
       "3     0    0      37.115385        E10              1.38           0.5031   \n",
       "4     0    0      37.115385        E10              1.38           0.8325   \n",
       "\n",
       "   trip_cost  cost_km  \n",
       "0   1.932000  0.06900  \n",
       "1   0.695520  0.05796  \n",
       "2   0.850080  0.07590  \n",
       "3   0.694278  0.05382  \n",
       "4   1.148850  0.06210  "
      ]
     },
     "execution_count": 2,
     "metadata": {},
     "output_type": "execute_result"
    }
   ],
   "source": [
    "data = pd.read_csv('measurements_clean.csv')\n",
    "display(data.shape)\n",
    "data.head()"
   ]
  },
  {
   "cell_type": "markdown",
   "id": "9417229f",
   "metadata": {},
   "source": [
    "+ **HYPOTHESIS TEST**"
   ]
  },
  {
   "cell_type": "markdown",
   "id": "bad65e49",
   "metadata": {},
   "source": [
    "+ Null hypothesis (H0): SP98 gasoline has better performance than E10\n",
    "+ Alternative hypothesis (H1): E10 gasoline has better performance than SP98"
   ]
  },
  {
   "cell_type": "code",
   "execution_count": 15,
   "id": "47b79295",
   "metadata": {},
   "outputs": [
    {
     "name": "stdout",
     "output_type": "stream",
     "text": [
      "There is sufficient evidence to reject the null hypothesis (H0) and conclude that E10 gasoline has better performance than SP98 gasoline.\n"
     ]
    }
   ],
   "source": [
    "E10_data = data[data['gas_type'] == 'E10']\n",
    "SP98_data = data[data['gas_type'] == 'SP98']\n",
    "\n",
    "_, p_value = stats.ttest_ind(E10_data['cost_km'], SP98_data['cost_km'], equal_var=False)\n",
    "\n",
    "alpha = 0.05\n",
    "\n",
    "if p_value < alpha:\n",
    "    conclusion = \"There is sufficient evidence to reject the null hypothesis (H0) and conclude that E10 gasoline has better performance than SP98 gasoline.\"\n",
    "else:\n",
    "    conclusion = \"There is not enough evidence to reject the null hypothesis (H0) and conclude that E10 gasoline has better performance than SP98 gasoline.\"\n",
    "\n",
    "print(conclusion)\n"
   ]
  },
  {
   "cell_type": "code",
   "execution_count": 16,
   "id": "c375cba7",
   "metadata": {},
   "outputs": [
    {
     "data": {
      "text/plain": [
       "(-2.3785667365686978, 0.017869136647470033)"
      ]
     },
     "execution_count": 16,
     "metadata": {},
     "output_type": "execute_result"
    }
   ],
   "source": [
    "E10_data = data[data['gas_type'] == 'E10']\n",
    "SP98_data = data[data['gas_type'] == 'SP98']\n",
    "\n",
    "_, p_value = stats.ttest_ind(E10_data['cost_km'], SP98_data['cost_km'], equal_var=False)\n",
    "_, p_value"
   ]
  },
  {
   "cell_type": "markdown",
   "id": "af2fbbbf",
   "metadata": {},
   "source": [
    "+ **Compare the hypothesis with the previous analysis of columns**"
   ]
  },
  {
   "cell_type": "code",
   "execution_count": 11,
   "id": "c2a2e4bd",
   "metadata": {},
   "outputs": [
    {
     "name": "stdout",
     "output_type": "stream",
     "text": [
      "Cost per KM:\n",
      "gas_type\n",
      "E10     0.068051\n",
      "SP98    0.071527\n",
      "Name: cost_km, dtype: float64\n",
      "\n",
      "Average distance:\n",
      "gas_type\n",
      "E10     21.096250\n",
      "SP98    18.639912\n",
      "Name: distance, dtype: float64\n",
      "\n",
      "Best type of gasoline based on cost per kilometer and distance:\n"
     ]
    },
    {
     "data": {
      "text/plain": [
       "'E10'"
      ]
     },
     "execution_count": 11,
     "metadata": {},
     "output_type": "execute_result"
    }
   ],
   "source": [
    "\n",
    "cost_km = data.groupby('gas_type')['cost_km'].mean()\n",
    "distance = data.groupby('gas_type')['distance'].mean()\n",
    "\n",
    "best_cost_km = cost_km.idxmin()\n",
    "best_distance = distance.idxmax()\n",
    "\n",
    "if best_cost_km == best_distance:\n",
    "    best_gas_type = best_cost_km\n",
    "else:\n",
    "    best_gas_type = None\n",
    "\n",
    "print(\"Cost per KM:\")\n",
    "print(cost_km)\n",
    "print(\"\\nAverage distance:\")\n",
    "print(distance)\n",
    "print(\"\\nBest type of gasoline based on cost per kilometer and distance:\")\n",
    "best_gas_type"
   ]
  },
  {
   "cell_type": "markdown",
   "id": "b95fab3b",
   "metadata": {},
   "source": [
    "# Conclusion: Contemplating the distance, the cost of gasoline, the kilometers that it gives us performance, I can conclude that E10 gasoline is giving us better results per kilometer advanced."
   ]
  },
  {
   "cell_type": "code",
   "execution_count": null,
   "id": "a46bf90d",
   "metadata": {},
   "outputs": [],
   "source": []
  }
 ],
 "metadata": {
  "kernelspec": {
   "display_name": "Python 3 (ipykernel)",
   "language": "python",
   "name": "python3"
  },
  "language_info": {
   "codemirror_mode": {
    "name": "ipython",
    "version": 3
   },
   "file_extension": ".py",
   "mimetype": "text/x-python",
   "name": "python",
   "nbconvert_exporter": "python",
   "pygments_lexer": "ipython3",
   "version": "3.10.9"
  }
 },
 "nbformat": 4,
 "nbformat_minor": 5
}
